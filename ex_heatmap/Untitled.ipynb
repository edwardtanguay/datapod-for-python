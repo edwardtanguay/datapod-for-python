{
 "cells": [
  {
   "cell_type": "code",
   "execution_count": 1,
   "id": "dbb76a05-4251-443c-96d2-c6c26f67f83a",
   "metadata": {},
   "outputs": [
    {
     "data": {
      "text/plain": [
       "13"
      ]
     },
     "execution_count": 1,
     "metadata": {},
     "output_type": "execute_result"
    }
   ],
   "source": [
    "age = 3\n",
    "age + 10"
   ]
  },
  {
   "cell_type": "code",
   "execution_count": 2,
   "id": "90a4e698-4c91-428b-885a-2a649202f687",
   "metadata": {},
   "outputs": [
    {
     "data": {
      "text/plain": [
       "2"
      ]
     },
     "execution_count": 2,
     "metadata": {},
     "output_type": "execute_result"
    }
   ],
   "source": [
    "temp = -3\n",
    "temp + 5"
   ]
  },
  {
   "cell_type": "code",
   "execution_count": 3,
   "id": "a8a424d3-9c1f-426e-94c9-7b0c01b54044",
   "metadata": {},
   "outputs": [
    {
     "data": {
      "text/plain": [
       "1.6600000000000001"
      ]
     },
     "execution_count": 3,
     "metadata": {},
     "output_type": "execute_result"
    }
   ],
   "source": [
    "temp -3.28\n",
    "temp + 4.66"
   ]
  },
  {
   "cell_type": "code",
   "execution_count": 4,
   "id": "20576086-5642-4a35-83ae-d32f063f871c",
   "metadata": {},
   "outputs": [
    {
     "data": {
      "text/plain": [
       "1.66"
      ]
     },
     "execution_count": 4,
     "metadata": {},
     "output_type": "execute_result"
    }
   ],
   "source": [
    "round(temp + 4.66, 5)"
   ]
  },
  {
   "cell_type": "code",
   "execution_count": 5,
   "id": "347eff8f-fe86-4815-8d0a-f597b273fc54",
   "metadata": {},
   "outputs": [
    {
     "data": {
      "text/plain": [
       "'1.66'"
      ]
     },
     "execution_count": 5,
     "metadata": {},
     "output_type": "execute_result"
    }
   ],
   "source": [
    "f\"{(temp + 4.66):.2f}\""
   ]
  },
  {
   "cell_type": "code",
   "execution_count": 6,
   "id": "2513cf52-c18c-411e-8eac-ae410e8f2e0c",
   "metadata": {},
   "outputs": [
    {
     "data": {
      "text/plain": [
       "[4, 3, 2, 1]"
      ]
     },
     "execution_count": 6,
     "metadata": {},
     "output_type": "execute_result"
    }
   ],
   "source": [
    "all_codes = [1,2,3,4]\n",
    "all_codes.reverse()\n",
    "all_codes"
   ]
  },
  {
   "cell_type": "code",
   "execution_count": 7,
   "id": "a1a6e50b-bfec-4571-8626-29bad6663604",
   "metadata": {},
   "outputs": [
    {
     "data": {
      "text/plain": [
       "[1, 2, 3, 4]"
      ]
     },
     "execution_count": 7,
     "metadata": {},
     "output_type": "execute_result"
    }
   ],
   "source": [
    "all_codes.reverse()\n",
    "all_codes"
   ]
  },
  {
   "cell_type": "code",
   "execution_count": 8,
   "id": "f660c7f7-5688-46a4-a0f9-4495227db50b",
   "metadata": {},
   "outputs": [
    {
     "name": "stdout",
     "output_type": "stream",
     "text": [
      "[1, 2, 3, 4]\n",
      "[5, 4, 3, 2, 1]\n"
     ]
    }
   ],
   "source": [
    "print(all_codes)\n",
    "all_codes.append(5)\n",
    "all_codes.reverse()\n",
    "print(all_codes)"
   ]
  },
  {
   "cell_type": "code",
   "execution_count": 9,
   "id": "9e5be3e5-0049-42f3-a8cb-ae357c0f5574",
   "metadata": {},
   "outputs": [
    {
     "data": {
      "text/plain": [
       "1"
      ]
     },
     "execution_count": 9,
     "metadata": {},
     "output_type": "execute_result"
    }
   ],
   "source": [
    "count = 1\n",
    "count"
   ]
  },
  {
   "cell_type": "code",
   "execution_count": 10,
   "id": "26345802-5b8b-4488-9743-7613baffd8ca",
   "metadata": {},
   "outputs": [
    {
     "data": {
      "text/plain": [
       "2"
      ]
     },
     "execution_count": 10,
     "metadata": {},
     "output_type": "execute_result"
    }
   ],
   "source": [
    "count += 1\n",
    "count"
   ]
  },
  {
   "cell_type": "code",
   "execution_count": 11,
   "id": "f4294e53-5cdd-471f-b0eb-772c6a91eb1c",
   "metadata": {},
   "outputs": [
    {
     "name": "stdout",
     "output_type": "stream",
     "text": [
      "nnn\n"
     ]
    }
   ],
   "source": [
    "print(\"nnn\")"
   ]
  },
  {
   "cell_type": "code",
   "execution_count": 12,
   "id": "aa48cfcd-fe98-4b14-b710-eec342ae4966",
   "metadata": {},
   "outputs": [
    {
     "name": "stdout",
     "output_type": "stream",
     "text": [
      "111\n",
      "222\n"
     ]
    }
   ],
   "source": [
    "print(\"111\")\n",
    "print(\"222\")"
   ]
  },
  {
   "cell_type": "code",
   "execution_count": 13,
   "id": "a124e661-113d-4866-a8ba-d34092d0bcac",
   "metadata": {},
   "outputs": [
    {
     "data": {
      "text/plain": [
       "'test'"
      ]
     },
     "metadata": {},
     "output_type": "display_data"
    }
   ],
   "source": [
    "from IPython.display import display\n",
    "display(\"test\")"
   ]
  },
  {
   "cell_type": "code",
   "execution_count": 14,
   "id": "e21303f3-ad92-469d-8df8-cd381b1c213d",
   "metadata": {},
   "outputs": [
    {
     "data": {
      "text/plain": [
       "'ok'"
      ]
     },
     "metadata": {},
     "output_type": "display_data"
    }
   ],
   "source": [
    "display(\"ok\")"
   ]
  },
  {
   "cell_type": "code",
   "execution_count": 15,
   "id": "06f4be68-792d-48bd-9018-13bc0f3fedf3",
   "metadata": {},
   "outputs": [
    {
     "data": {
      "text/plain": [
       "[3, 6, 3, 4]"
      ]
     },
     "metadata": {},
     "output_type": "display_data"
    }
   ],
   "source": [
    "display([3,6,3,4])"
   ]
  },
  {
   "cell_type": "code",
   "execution_count": 16,
   "id": "21f45459-3e22-43f8-aa42-b473633a1506",
   "metadata": {},
   "outputs": [
    {
     "data": {
      "text/plain": [
       "[3, 6, 4, 2]"
      ]
     },
     "execution_count": 16,
     "metadata": {},
     "output_type": "execute_result"
    }
   ],
   "source": [
    "[3,6,4,2]"
   ]
  },
  {
   "cell_type": "code",
   "execution_count": 17,
   "id": "bb7e4659-5adc-4ba6-b886-6d8d2d29af40",
   "metadata": {},
   "outputs": [
    {
     "data": {
      "text/plain": [
       "[5, 4, 3, 2, 1]"
      ]
     },
     "execution_count": 17,
     "metadata": {},
     "output_type": "execute_result"
    }
   ],
   "source": [
    "all_codes"
   ]
  },
  {
   "cell_type": "code",
   "execution_count": null,
   "id": "6abcc935-6c3d-476b-bed9-fe5a669e1d7f",
   "metadata": {},
   "outputs": [],
   "source": []
  }
 ],
 "metadata": {
  "kernelspec": {
   "display_name": "Python (.venv)",
   "language": "python",
   "name": ".venv"
  },
  "language_info": {
   "codemirror_mode": {
    "name": "ipython",
    "version": 3
   },
   "file_extension": ".py",
   "mimetype": "text/x-python",
   "name": "python",
   "nbconvert_exporter": "python",
   "pygments_lexer": "ipython3",
   "version": "3.12.2"
  }
 },
 "nbformat": 4,
 "nbformat_minor": 5
}
