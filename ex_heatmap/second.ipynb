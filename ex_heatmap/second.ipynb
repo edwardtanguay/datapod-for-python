{
 "cells": [
  {
   "cell_type": "code",
   "execution_count": 4,
   "id": "0827b7ad-aa78-4c8b-bed1-8af5a3dcdbfb",
   "metadata": {},
   "outputs": [
    {
     "data": {
      "text/plain": [
       "Index(['countries_and_areas', 'latitude', 'longitude',\n",
       "       'oosr_pre0primary_age_male', 'oosr_pre0primary_age_female',\n",
       "       'oosr_primary_age_male', 'oosr_primary_age_female',\n",
       "       'oosr_lower_secondary_age_male', 'oosr_lower_secondary_age_female',\n",
       "       'oosr_upper_secondary_age_male', 'oosr_upper_secondary_age_female',\n",
       "       'completion_rate_primary_male', 'completion_rate_primary_female',\n",
       "       'completion_rate_lower_secondary_male',\n",
       "       'completion_rate_lower_secondary_female',\n",
       "       'completion_rate_upper_secondary_male',\n",
       "       'completion_rate_upper_secondary_female',\n",
       "       'grade_2_3_proficiency_reading', 'grade_2_3_proficiency_math',\n",
       "       'primary_end_proficiency_reading', 'primary_end_proficiency_math',\n",
       "       'lower_secondary_end_proficiency_reading',\n",
       "       'lower_secondary_end_proficiency_math',\n",
       "       'youth_15_24_literacy_rate_male', 'youth_15_24_literacy_rate_female',\n",
       "       'birth_rate', 'gross_primary_education_enrollment',\n",
       "       'gross_tertiary_education_enrollment', 'unemployment_rate'],\n",
       "      dtype='object')"
      ]
     },
     "execution_count": 4,
     "metadata": {},
     "output_type": "execute_result"
    }
   ],
   "source": [
    "import pandas as pd\n",
    "\n",
    "df = pd.read_csv(\"Global_Education.csv\", encoding=\"latin1\")\n",
    "df.columns = [column.lower().strip().replace(' ','_') for column in df.columns]\n",
    "df.columns"
   ]
  },
  {
   "cell_type": "code",
   "execution_count": null,
   "id": "8d4503b6-d778-412d-884a-c29c494608a1",
   "metadata": {},
   "outputs": [],
   "source": []
  }
 ],
 "metadata": {
  "kernelspec": {
   "display_name": "Python 3 (ipykernel)",
   "language": "python",
   "name": "python3"
  },
  "language_info": {
   "codemirror_mode": {
    "name": "ipython",
    "version": 3
   },
   "file_extension": ".py",
   "mimetype": "text/x-python",
   "name": "python",
   "nbconvert_exporter": "python",
   "pygments_lexer": "ipython3",
   "version": "3.12.2"
  }
 },
 "nbformat": 4,
 "nbformat_minor": 5
}
